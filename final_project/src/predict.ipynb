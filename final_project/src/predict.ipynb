{
 "cells": [
  {
   "cell_type": "code",
   "execution_count": 3,
   "metadata": {},
   "outputs": [],
   "source": [
    "import pickle\n",
    "import pandas as pd\n",
    "from sklearn.metrics import mean_absolute_error\n",
    "from flask import Flask, request, jsonify\n",
    "import matplotlib.pyplot as plt\n",
    "from sklearn.preprocessing import LabelEncoder\n"
   ]
  },
  {
   "cell_type": "code",
   "execution_count": 4,
   "metadata": {},
   "outputs": [],
   "source": [
    "with open('rf.pkl', 'rb') as f_in:\n",
    "    (dv, model) = pickle.load(f_in)"
   ]
  },
  {
   "cell_type": "code",
   "execution_count": 5,
   "metadata": {},
   "outputs": [
    {
     "data": {
      "text/plain": [
       "array(['Age', 'AnnualSalary', 'Gender'], dtype=object)"
      ]
     },
     "execution_count": 5,
     "metadata": {},
     "output_type": "execute_result"
    }
   ],
   "source": [
    "dv.get_feature_names_out()"
   ]
  },
  {
   "cell_type": "code",
   "execution_count": 10,
   "metadata": {},
   "outputs": [],
   "source": [
    "object = {\n",
    "        \"Gender\": \"Male\",\n",
    "        \"Age\": 20,\n",
    "        \"AnnualSalary\": 1000,\n",
    "        }"
   ]
  },
  {
   "cell_type": "code",
   "execution_count": 40,
   "metadata": {},
   "outputs": [
    {
     "data": {
      "text/plain": [
       "'Male'"
      ]
     },
     "execution_count": 40,
     "metadata": {},
     "output_type": "execute_result"
    }
   ],
   "source": [
    "list(object.items())[0][1]"
   ]
  },
  {
   "cell_type": "code",
   "execution_count": 50,
   "metadata": {},
   "outputs": [],
   "source": [
    "def make_encoding(object):\n",
    "    if list(object.items())[0][1] == \"Male\":\n",
    "        object[\"Gender\"] = \"1\"\n",
    "    else:\n",
    "        object[\"Gender\"] = \"0\"\n",
    "        \n",
    "object1 = make_encoding(object)\n",
    "object1\n"
   ]
  },
  {
   "cell_type": "code",
   "execution_count": 27,
   "metadata": {},
   "outputs": [
    {
     "data": {
      "text/plain": [
       "'{\"Gender\":{\"0\":0},\"Age\":{\"0\":20},\"AnnualSalary\":{\"0\":1000}}'"
      ]
     },
     "execution_count": 27,
     "metadata": {},
     "output_type": "execute_result"
    }
   ],
   "source": [
    "def make_label_encoding(object):\n",
    "    object = pd.DataFrame(object, index=[1])\n",
    "    le = LabelEncoder()\n",
    "    object[\"Gender\"] = le.fit_transform(object[\"Gender\"])\n",
    "    object.reset_index(inplace=True)\n",
    "    object.drop(columns=\"index\", inplace=True)\n",
    "    return object.to_json()\n",
    "\n",
    "object1 = make_label_encoding(object)\n",
    "object1"
   ]
  },
  {
   "cell_type": "code",
   "execution_count": 28,
   "metadata": {},
   "outputs": [],
   "source": [
    "def predict(model, object):\n",
    "    X = dv.transform(object)\n",
    "    y_pred = model.predict(X)\n",
    "    return float(y_pred)"
   ]
  },
  {
   "cell_type": "code",
   "execution_count": 30,
   "metadata": {},
   "outputs": [
    {
     "data": {
      "text/plain": [
       "'{\"Gender\":{\"0\":0},\"Age\":{\"0\":20},\"AnnualSalary\":{\"0\":1000}}'"
      ]
     },
     "execution_count": 30,
     "metadata": {},
     "output_type": "execute_result"
    }
   ],
   "source": [
    "object1"
   ]
  },
  {
   "cell_type": "code",
   "execution_count": 29,
   "metadata": {},
   "outputs": [
    {
     "ename": "AttributeError",
     "evalue": "'str' object has no attribute 'items'",
     "output_type": "error",
     "traceback": [
      "\u001b[0;31m---------------------------------------------------------------------------\u001b[0m",
      "\u001b[0;31mAttributeError\u001b[0m                            Traceback (most recent call last)",
      "\u001b[1;32m/home/ubuntu/mlops-zoomcamp/final_project/src/predict.ipynb Cell 7\u001b[0m in \u001b[0;36m<cell line: 1>\u001b[0;34m()\u001b[0m\n\u001b[0;32m----> <a href='vscode-notebook-cell://ssh-remote%2Bmlops-zoomcamp/home/ubuntu/mlops-zoomcamp/final_project/src/predict.ipynb#ch0000006vscode-remote?line=0'>1</a>\u001b[0m object2 \u001b[39m=\u001b[39m predict(model, object1)\n\u001b[1;32m      <a href='vscode-notebook-cell://ssh-remote%2Bmlops-zoomcamp/home/ubuntu/mlops-zoomcamp/final_project/src/predict.ipynb#ch0000006vscode-remote?line=1'>2</a>\u001b[0m object2\n",
      "\u001b[1;32m/home/ubuntu/mlops-zoomcamp/final_project/src/predict.ipynb Cell 7\u001b[0m in \u001b[0;36mpredict\u001b[0;34m(model, object)\u001b[0m\n\u001b[1;32m      <a href='vscode-notebook-cell://ssh-remote%2Bmlops-zoomcamp/home/ubuntu/mlops-zoomcamp/final_project/src/predict.ipynb#ch0000006vscode-remote?line=0'>1</a>\u001b[0m \u001b[39mdef\u001b[39;00m \u001b[39mpredict\u001b[39m(model, \u001b[39mobject\u001b[39m):\n\u001b[0;32m----> <a href='vscode-notebook-cell://ssh-remote%2Bmlops-zoomcamp/home/ubuntu/mlops-zoomcamp/final_project/src/predict.ipynb#ch0000006vscode-remote?line=1'>2</a>\u001b[0m     X \u001b[39m=\u001b[39m dv\u001b[39m.\u001b[39;49mtransform(\u001b[39mobject\u001b[39;49m)\n\u001b[1;32m      <a href='vscode-notebook-cell://ssh-remote%2Bmlops-zoomcamp/home/ubuntu/mlops-zoomcamp/final_project/src/predict.ipynb#ch0000006vscode-remote?line=2'>3</a>\u001b[0m     y_pred \u001b[39m=\u001b[39m model\u001b[39m.\u001b[39mpredict(X)\n\u001b[1;32m      <a href='vscode-notebook-cell://ssh-remote%2Bmlops-zoomcamp/home/ubuntu/mlops-zoomcamp/final_project/src/predict.ipynb#ch0000006vscode-remote?line=3'>4</a>\u001b[0m     \u001b[39mreturn\u001b[39;00m \u001b[39mfloat\u001b[39m(y_pred)\n",
      "File \u001b[0;32m~/.local/share/virtualenvs/final_project--L-4VOZ6/lib/python3.9/site-packages/sklearn/feature_extraction/_dict_vectorizer.py:373\u001b[0m, in \u001b[0;36mDictVectorizer.transform\u001b[0;34m(self, X)\u001b[0m\n\u001b[1;32m    356\u001b[0m \u001b[39mdef\u001b[39;00m \u001b[39mtransform\u001b[39m(\u001b[39mself\u001b[39m, X):\n\u001b[1;32m    357\u001b[0m     \u001b[39m\"\"\"Transform feature->value dicts to array or sparse matrix.\u001b[39;00m\n\u001b[1;32m    358\u001b[0m \n\u001b[1;32m    359\u001b[0m \u001b[39m    Named features not encountered during fit or fit_transform will be\u001b[39;00m\n\u001b[0;32m   (...)\u001b[0m\n\u001b[1;32m    371\u001b[0m \u001b[39m        Feature vectors; always 2-d.\u001b[39;00m\n\u001b[1;32m    372\u001b[0m \u001b[39m    \"\"\"\u001b[39;00m\n\u001b[0;32m--> 373\u001b[0m     \u001b[39mreturn\u001b[39;00m \u001b[39mself\u001b[39;49m\u001b[39m.\u001b[39;49m_transform(X, fitting\u001b[39m=\u001b[39;49m\u001b[39mFalse\u001b[39;49;00m)\n",
      "File \u001b[0;32m~/.local/share/virtualenvs/final_project--L-4VOZ6/lib/python3.9/site-packages/sklearn/feature_extraction/_dict_vectorizer.py:224\u001b[0m, in \u001b[0;36mDictVectorizer._transform\u001b[0;34m(self, X, fitting)\u001b[0m\n\u001b[1;32m    221\u001b[0m \u001b[39m# collect all the possible feature names and build sparse matrix at\u001b[39;00m\n\u001b[1;32m    222\u001b[0m \u001b[39m# same time\u001b[39;00m\n\u001b[1;32m    223\u001b[0m \u001b[39mfor\u001b[39;00m x \u001b[39min\u001b[39;00m X:\n\u001b[0;32m--> 224\u001b[0m     \u001b[39mfor\u001b[39;00m f, v \u001b[39min\u001b[39;00m x\u001b[39m.\u001b[39;49mitems():\n\u001b[1;32m    225\u001b[0m         \u001b[39mif\u001b[39;00m \u001b[39misinstance\u001b[39m(v, \u001b[39mstr\u001b[39m):\n\u001b[1;32m    226\u001b[0m             feature_name \u001b[39m=\u001b[39m \u001b[39m\"\u001b[39m\u001b[39m%s\u001b[39;00m\u001b[39m%s\u001b[39;00m\u001b[39m%s\u001b[39;00m\u001b[39m\"\u001b[39m \u001b[39m%\u001b[39m (f, \u001b[39mself\u001b[39m\u001b[39m.\u001b[39mseparator, v)\n",
      "\u001b[0;31mAttributeError\u001b[0m: 'str' object has no attribute 'items'"
     ]
    }
   ],
   "source": [
    "object2 = predict(model, object1)\n",
    "object2"
   ]
  }
 ],
 "metadata": {
  "kernelspec": {
   "display_name": "Python 3.9.12 ('final_project--L-4VOZ6')",
   "language": "python",
   "name": "python3"
  },
  "language_info": {
   "codemirror_mode": {
    "name": "ipython",
    "version": 3
   },
   "file_extension": ".py",
   "mimetype": "text/x-python",
   "name": "python",
   "nbconvert_exporter": "python",
   "pygments_lexer": "ipython3",
   "version": "3.9.12"
  },
  "orig_nbformat": 4,
  "vscode": {
   "interpreter": {
    "hash": "0d6cb913a3b30e303fbeba3d44d7664c6766212b23eda476324c5b45dfe8fe8e"
   }
  }
 },
 "nbformat": 4,
 "nbformat_minor": 2
}
